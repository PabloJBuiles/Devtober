{
  "nbformat": 4,
  "nbformat_minor": 0,
  "metadata": {
    "colab": {
      "name": "Copia de 8. Ejercicios con Pandas.ipynb",
      "provenance": [],
      "collapsed_sections": [],
      "include_colab_link": true
    },
    "kernelspec": {
      "name": "python3",
      "display_name": "Python 3"
    }
  },
  "cells": [
    {
      "cell_type": "markdown",
      "metadata": {
        "id": "view-in-github",
        "colab_type": "text"
      },
      "source": [
        "<a href=\"https://colab.research.google.com/github/PabloJBuiles/Devtober/blob/master/Copia_de_8_Ejercicios_con_Pandas_TestGithub.ipynb\" target=\"_parent\"><img src=\"https://colab.research.google.com/assets/colab-badge.svg\" alt=\"Open In Colab\"/></a>"
      ]
    },
    {
      "cell_type": "markdown",
      "metadata": {
        "id": "-33Jogw7dyEb"
      },
      "source": [
        "**Ejercicios con Pandas**\n",
        "\n",
        "**Realizado por John Fernando Vargas**"
      ]
    },
    {
      "cell_type": "markdown",
      "metadata": {
        "id": "H_ho3TKSzF3F"
      },
      "source": [
        "**Ejercicios con Pandas**"
      ]
    },
    {
      "cell_type": "markdown",
      "metadata": {
        "id": "oz4en7zWxSDQ"
      },
      "source": [
        "Cargue la base de datos del Titanic desde el paquete seaborn"
      ]
    },
    {
      "cell_type": "code",
      "metadata": {
        "id": "b99uT7hAs9NU"
      },
      "source": [
        "import pandas as pd\n",
        "import seaborn as sns"
      ],
      "execution_count": null,
      "outputs": []
    },
    {
      "cell_type": "code",
      "metadata": {
        "id": "KtfmiSLmzpTq"
      },
      "source": [
        "df = sns.load_dataset('titanic')"
      ],
      "execution_count": null,
      "outputs": []
    },
    {
      "cell_type": "markdown",
      "metadata": {
        "id": "5HSFuzqky_zy"
      },
      "source": [
        "Observe los primeros 5 registros del DataFrame"
      ]
    },
    {
      "cell_type": "code",
      "metadata": {
        "id": "uLsmgnK_JYep"
      },
      "source": [
        "df.head()"
      ],
      "execution_count": null,
      "outputs": []
    },
    {
      "cell_type": "markdown",
      "metadata": {
        "id": "eyJEq4ICJYn4"
      },
      "source": [
        "Observe los últimos 5 registros del DataFrame"
      ]
    },
    {
      "cell_type": "code",
      "metadata": {
        "id": "myDpb-WeJdwB"
      },
      "source": [
        ""
      ],
      "execution_count": null,
      "outputs": []
    },
    {
      "cell_type": "markdown",
      "metadata": {
        "id": "82LzWaKjJh3e"
      },
      "source": [
        "Cuántas filas y cuántas columnas tiene el dataframe"
      ]
    },
    {
      "cell_type": "code",
      "metadata": {
        "id": "dMs6CYefJm7V"
      },
      "source": [
        ""
      ],
      "execution_count": null,
      "outputs": []
    },
    {
      "cell_type": "markdown",
      "metadata": {
        "id": "XI2JO7_QJnT0"
      },
      "source": [
        "Use el metodo .info() para encontrar cuantas Columnas de \n",
        "atributos hay y que tipo de datos tiene cada una"
      ]
    },
    {
      "cell_type": "code",
      "metadata": {
        "id": "Z6qqY7YdJ17d"
      },
      "source": [
        ""
      ],
      "execution_count": null,
      "outputs": []
    },
    {
      "cell_type": "markdown",
      "metadata": {
        "id": "6z2B9NGEJ2at"
      },
      "source": [
        "Parece que la columna \"deck\" no tiene mucha información elimínela"
      ]
    },
    {
      "cell_type": "code",
      "metadata": {
        "id": "St8Tiw5kLel7"
      },
      "source": [
        ""
      ],
      "execution_count": null,
      "outputs": []
    },
    {
      "cell_type": "markdown",
      "metadata": {
        "id": "YIdIYsRSLe2u"
      },
      "source": [
        "Utilice la función .info() para verificar que eliminó la columna"
      ]
    },
    {
      "cell_type": "code",
      "metadata": {
        "id": "elx2gFX4Lzw6"
      },
      "source": [
        ""
      ],
      "execution_count": null,
      "outputs": []
    },
    {
      "cell_type": "markdown",
      "metadata": {
        "id": "oq6NEF9sL0NO"
      },
      "source": [
        "Algunos registros están incompletos.\n",
        "\n",
        "Borre esa filas usando la función:\n",
        "df.dropna(axis=0)\n"
      ]
    },
    {
      "cell_type": "code",
      "metadata": {
        "id": "sCFYu0J-M0Al"
      },
      "source": [
        ""
      ],
      "execution_count": null,
      "outputs": []
    },
    {
      "cell_type": "markdown",
      "metadata": {
        "id": "CwpRRLqPNnJu"
      },
      "source": [
        "Trate de observar los 10 registros que hay desde el índice 100, si ve alguna inconsistencia, no importa, continúe con el desarrollo de la actividad"
      ]
    },
    {
      "cell_type": "code",
      "metadata": {
        "id": "jVansMkyNq3Y"
      },
      "source": [
        ""
      ],
      "execution_count": null,
      "outputs": []
    },
    {
      "cell_type": "markdown",
      "metadata": {
        "id": "3xsOD2DfPpTz"
      },
      "source": [
        "Parece que los índices estan desfasados por borrar algunos registros\n",
        "\n",
        "utilice df = df.reset_index() para colocar nuevos indices y elimine la columna index "
      ]
    },
    {
      "cell_type": "code",
      "metadata": {
        "id": "V0ujrVB7P5vG"
      },
      "source": [
        ""
      ],
      "execution_count": null,
      "outputs": []
    },
    {
      "cell_type": "code",
      "metadata": {
        "id": "ME0uVlanQYwy"
      },
      "source": [
        ""
      ],
      "execution_count": null,
      "outputs": []
    },
    {
      "cell_type": "markdown",
      "metadata": {
        "id": "1izWh9ezREcZ"
      },
      "source": [
        "Ahora sí se pueden ver los registros del 100 al 110"
      ]
    },
    {
      "cell_type": "code",
      "metadata": {
        "id": "AyULdE0GQFNa"
      },
      "source": [
        ""
      ],
      "execution_count": null,
      "outputs": []
    },
    {
      "cell_type": "markdown",
      "metadata": {
        "id": "tx2T58UBORWt"
      },
      "source": [
        "¿Cuántos años tenía la persona de menor edad que iba en el Titanic?"
      ]
    },
    {
      "cell_type": "code",
      "metadata": {
        "id": "-nca7bpOOaRk"
      },
      "source": [
        ""
      ],
      "execution_count": null,
      "outputs": []
    },
    {
      "cell_type": "markdown",
      "metadata": {
        "id": "jtjAQKHjPi_d"
      },
      "source": [
        "¿Esta persona era hombre o mujer? no presente todo el registro solo el campo \"sex\""
      ]
    },
    {
      "cell_type": "code",
      "metadata": {
        "id": "ap4NEvPlO_Ij"
      },
      "source": [
        ""
      ],
      "execution_count": null,
      "outputs": []
    },
    {
      "cell_type": "markdown",
      "metadata": {
        "id": "TeCHKXwqSXJH"
      },
      "source": [
        "¿Esta persona sobrevivió?"
      ]
    },
    {
      "cell_type": "code",
      "metadata": {
        "id": "IPiAPmXYSigy"
      },
      "source": [
        ""
      ],
      "execution_count": null,
      "outputs": []
    },
    {
      "cell_type": "markdown",
      "metadata": {
        "id": "N29NGyYBS60Y"
      },
      "source": [
        "Responda las 3 úlitmas preguntas para la persona de mayor edad"
      ]
    },
    {
      "cell_type": "code",
      "metadata": {
        "id": "7_k-fiT_TAyW"
      },
      "source": [
        "\n"
      ],
      "execution_count": null,
      "outputs": []
    },
    {
      "cell_type": "markdown",
      "metadata": {
        "id": "1LPDZ5AETr3b"
      },
      "source": [
        "¿Cuál era la edad de la persona menor que NO sobrevivió?"
      ]
    },
    {
      "cell_type": "code",
      "metadata": {
        "id": "kg9kJV3_UqsK"
      },
      "source": [
        ""
      ],
      "execution_count": null,
      "outputs": []
    },
    {
      "cell_type": "markdown",
      "metadata": {
        "id": "8ah11D5KVACm"
      },
      "source": [
        "¿Cuál era la edad de la persona mayor que NO sobrevivió?"
      ]
    },
    {
      "cell_type": "code",
      "metadata": {
        "id": "bHdfZ8BSVEbx"
      },
      "source": [
        ""
      ],
      "execution_count": null,
      "outputs": []
    },
    {
      "cell_type": "markdown",
      "metadata": {
        "id": "XOxwpSu6ZR6W"
      },
      "source": [
        "Muestre en una tabla los registros de las mujeres que sobrevivieron y eran mayores de 60 años"
      ]
    },
    {
      "cell_type": "code",
      "metadata": {
        "id": "gQloOlj3Zrzy"
      },
      "source": [
        ""
      ],
      "execution_count": null,
      "outputs": []
    },
    {
      "cell_type": "markdown",
      "metadata": {
        "id": "CGk3Bd2MWk8B"
      },
      "source": [
        "¿Cuantas personas embarcaron en Queenstown? "
      ]
    },
    {
      "cell_type": "code",
      "metadata": {
        "id": "ZnS7T8zKW042"
      },
      "source": [
        ""
      ],
      "execution_count": null,
      "outputs": []
    },
    {
      "cell_type": "markdown",
      "metadata": {
        "id": "39u-3oysVYSY"
      },
      "source": [
        "En una tabla presenta la edad promedio y el valor promedio del tiquete de las personas que embarcaron en cada puerto (Cherboroug, Queenstown, Southampton) utilice la función groupby"
      ]
    },
    {
      "cell_type": "code",
      "metadata": {
        "id": "d1yLvzftVeec"
      },
      "source": [
        ""
      ],
      "execution_count": null,
      "outputs": []
    },
    {
      "cell_type": "markdown",
      "metadata": {
        "id": "xg5cMfDOXkt0"
      },
      "source": [
        "Descargue el archivo supermarkets.csv que enocntrará en el siguiente enlace, guárdelo en su Drive y cárguelo como un dataframe \n",
        "\n",
        "https://drive.google.com/file/d/1zkZPcItLyc2LpJYWBPhOdZN3gfvbxBHh/view?usp=sharing\n"
      ]
    },
    {
      "cell_type": "code",
      "metadata": {
        "id": "xm19ayHEZCh0"
      },
      "source": [
        ""
      ],
      "execution_count": null,
      "outputs": []
    },
    {
      "cell_type": "markdown",
      "metadata": {
        "id": "R2ij0MtpZC5S"
      },
      "source": [
        "Muestre los primeros 5 registros\n",
        "\n"
      ]
    },
    {
      "cell_type": "code",
      "metadata": {
        "id": "Ltcwq3osZLd-"
      },
      "source": [
        ""
      ],
      "execution_count": null,
      "outputs": []
    }
  ]
}